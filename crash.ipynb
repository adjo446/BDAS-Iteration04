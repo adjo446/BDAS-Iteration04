{
 "cells": [
  {
   "cell_type": "markdown",
   "metadata": {},
   "source": [
    "# INFOSYS 722 - BDAS ITERATION\n",
    "\n",
    "# Predicting Crash Severity On New Zealand Roads\n",
    "\n",
    "Ferdinand Djohar (adjo446)"
   ]
  },
  {
   "cell_type": "markdown",
   "metadata": {},
   "source": [
    "## PREREQUISITES\n",
    "Initialise and start spark session."
   ]
  },
  {
   "cell_type": "code",
   "execution_count": 16,
   "metadata": {},
   "outputs": [],
   "source": [
    "import findspark\n",
    "findspark.init('/home/ubuntu/spark-2.1.1-bin-hadoop2.7')\n",
    "import pyspark\n",
    "from pyspark.sql import SparkSession\n",
    "spark = SparkSession.builder.appName('bdas').getOrCreate()"
   ]
  },
  {
   "cell_type": "markdown",
   "metadata": {},
   "source": [
    "## DATA UNDERSTANDING & DATA PREPARATION\n",
    "\n",
    "### 2.2 Data Description\n",
    "Data set consist of 104,032 records in total, sourced from three CSV files (i.e. one file for each year) with 38 attributes.\n",
    "\n",
    "Documentation provided by NZTA tells us that most of the value types in the data set are categorical and numeric types. Some variables are derived from other variables e.g. **URBAN** variable is derived from **SPD_LIM** variable giving possible values of *'Urban'* where **SPD_LIM** is less than 80 or *'Open Road'* where **SPD_LIM** is greater or equal to 80.\n",
    "\n",
    "Please refer to *Appendix A* in the report for more detailed list of attributes of the data set extracted from NZTA documentation."
   ]
  },
  {
   "cell_type": "code",
   "execution_count": 19,
   "metadata": {},
   "outputs": [
    {
     "name": "stdout",
     "output_type": "stream",
     "text": [
      "104032\n",
      "38\n"
     ]
    }
   ],
   "source": [
    "#df = spark.read.option(\"header\", \"true\").csv(\"Data/*.csv\")\n",
    "df = spark.read.csv(\"Data/*.csv\", header = True, inferSchema = True)\n",
    "\n",
    "#Print out the dimension of the data frame\n",
    "print(df.count()) #rows\n",
    "print(len(df.columns)) #columns"
   ]
  },
  {
   "cell_type": "markdown",
   "metadata": {},
   "source": [
    "### 2.3 Data Exploration\n",
    "\n",
    "Schema of the data frame"
   ]
  },
  {
   "cell_type": "code",
   "execution_count": 20,
   "metadata": {},
   "outputs": [
    {
     "name": "stdout",
     "output_type": "stream",
     "text": [
      "root\n",
      " |-- CRASH_YEAR: integer (nullable = true)\n",
      " |-- CRASH_SEV: string (nullable = true)\n",
      " |-- MULTI_VEH: string (nullable = true)\n",
      " |-- HOLIDAY: string (nullable = true)\n",
      " |-- LG_REGION_DESC: string (nullable = true)\n",
      " |-- EASTING: integer (nullable = true)\n",
      " |-- NORTHING: integer (nullable = true)\n",
      " |-- CRASH_LOCN1: string (nullable = true)\n",
      " |-- CRASH_LOCN2: string (nullable = true)\n",
      " |-- OUTDTD_LOCN_DESC: string (nullable = true)\n",
      " |-- CRASH_RP_RS: integer (nullable = true)\n",
      " |-- INTERSECTION: string (nullable = true)\n",
      " |-- JUNCTION_TYPE: string (nullable = true)\n",
      " |-- CR_RD_SIDE_RD: integer (nullable = true)\n",
      " |-- CRASH_DIRN_DESC: string (nullable = true)\n",
      " |-- CRASH_DIST: integer (nullable = true)\n",
      " |-- CRASH_RP_DIRN_DESC: string (nullable = true)\n",
      " |-- DIRN_ROLE1_DESC: string (nullable = true)\n",
      " |-- CRASH_RP_DISP: integer (nullable = true)\n",
      " |-- CRASH_SH_DESC: string (nullable = true)\n",
      " |-- CRASH_RP_SH: string (nullable = true)\n",
      " |-- CRASH_RP_NEWS_DESC: string (nullable = true)\n",
      " |-- INTSN_MIDBLOCK: string (nullable = true)\n",
      " |-- FLAT_HILL: string (nullable = true)\n",
      " |-- ROAD_CHARACTER: string (nullable = true)\n",
      " |-- ROAD_CURVATURE: string (nullable = true)\n",
      " |-- ROAD_LANE: string (nullable = true)\n",
      " |-- ROAD_MARKINGS: string (nullable = true)\n",
      " |-- ROAD_SURFACE: string (nullable = true)\n",
      " |-- ROAD_WET: string (nullable = true)\n",
      " |-- NUM_LANES: integer (nullable = true)\n",
      " |-- TRAFFIC_CTRL: string (nullable = true)\n",
      " |-- SPD_LIM: integer (nullable = true)\n",
      " |-- URBAN: string (nullable = true)\n",
      " |-- LIGHT: string (nullable = true)\n",
      " |-- STREET_LIGHT: string (nullable = true)\n",
      " |-- WEATHER_A: string (nullable = true)\n",
      " |-- WEATHER_B: string (nullable = true)\n",
      "\n"
     ]
    }
   ],
   "source": [
    "df.printSchema()"
   ]
  },
  {
   "cell_type": "markdown",
   "metadata": {},
   "source": [
    "### 2.4 Data Quality Verification\n",
    "The data quality of the data set seems to be fairly high. Only three out of 38 variables have missing data (see the result of the code chunk below).\n",
    "\n",
    "Furthermore, based on the data profiling report, we also noticed that there are some variables have high proportion of *\"Unknown\"* and zero values which may result in such variables being identified as least important variables, thus excluded in later stages of our work.\n",
    "\n",
    "Apart from minor data issues mentioned above, we found nothing of concern regarding the data quality of the data set."
   ]
  },
  {
   "cell_type": "code",
   "execution_count": 64,
   "metadata": {},
   "outputs": [],
   "source": [
    "import pandas as pd\n",
    "\n",
    "from pyspark.sql.functions import isnan, when, count, col\n",
    "\n",
    "#Use spark to calculate the number of missing values for each column and convert the result to pandas.\n",
    "#Note: the result will contain a single row with 38 columns, small enough to be handled by pandas in memory\n",
    "missing_values = pd.concat(\n",
    "    [\n",
    "        df.select([count(when(isnan(c) | col(c).isNull(), c)).alias(c) for c in df.columns]).toPandas().transpose(),\n",
    "        df.select([count(when(col(c) == \" \", c)).alias(c) for c in df.columns]).toPandas().transpose()\n",
    "    ],\n",
    "    axis = 1\n",
    ")\n",
    "\n",
    "missing_values.columns = [\"null\", \"whitespace\"]\n",
    "missing_values[\"total\"] = df.count()\n",
    "missing_values[\"missing\"] = missing_values[\"null\"] + missing_values[\"whitespace\"]\n",
    "missing_values[\"percent\"] = missing_values[\"missing\"] / missing_values[\"total\"] * 100"
   ]
  },
  {
   "cell_type": "code",
   "execution_count": 65,
   "metadata": {},
   "outputs": [
    {
     "data": {
      "text/html": [
       "<div>\n",
       "<style scoped>\n",
       "    .dataframe tbody tr th:only-of-type {\n",
       "        vertical-align: middle;\n",
       "    }\n",
       "\n",
       "    .dataframe tbody tr th {\n",
       "        vertical-align: top;\n",
       "    }\n",
       "\n",
       "    .dataframe thead th {\n",
       "        text-align: right;\n",
       "    }\n",
       "</style>\n",
       "<table border=\"1\" class=\"dataframe\">\n",
       "  <thead>\n",
       "    <tr style=\"text-align: right;\">\n",
       "      <th></th>\n",
       "      <th>null</th>\n",
       "      <th>whitespace</th>\n",
       "      <th>total</th>\n",
       "      <th>missing</th>\n",
       "      <th>percent</th>\n",
       "    </tr>\n",
       "  </thead>\n",
       "  <tbody>\n",
       "    <tr>\n",
       "      <th>CRASH_DIRN_DESC</th>\n",
       "      <td>0</td>\n",
       "      <td>35316</td>\n",
       "      <td>104032</td>\n",
       "      <td>35316</td>\n",
       "      <td>33.947247</td>\n",
       "    </tr>\n",
       "    <tr>\n",
       "      <th>ROAD_LANE</th>\n",
       "      <td>0</td>\n",
       "      <td>54</td>\n",
       "      <td>104032</td>\n",
       "      <td>54</td>\n",
       "      <td>0.051907</td>\n",
       "    </tr>\n",
       "    <tr>\n",
       "      <th>CR_RD_SIDE_RD</th>\n",
       "      <td>1</td>\n",
       "      <td>0</td>\n",
       "      <td>104032</td>\n",
       "      <td>1</td>\n",
       "      <td>0.000961</td>\n",
       "    </tr>\n",
       "  </tbody>\n",
       "</table>\n",
       "</div>"
      ],
      "text/plain": [
       "                 null  whitespace   total  missing    percent\n",
       "CRASH_DIRN_DESC     0       35316  104032    35316  33.947247\n",
       "ROAD_LANE           0          54  104032       54   0.051907\n",
       "CR_RD_SIDE_RD       1           0  104032        1   0.000961"
      ]
     },
     "execution_count": 65,
     "metadata": {},
     "output_type": "execute_result"
    }
   ],
   "source": [
    "missing_values.loc[missing_values['percent'] > 0].sort_values(\"percent\", ascending = False)"
   ]
  },
  {
   "cell_type": "code",
   "execution_count": null,
   "metadata": {},
   "outputs": [],
   "source": []
  }
 ],
 "metadata": {
  "kernelspec": {
   "display_name": "Python 3",
   "language": "python",
   "name": "python3"
  },
  "language_info": {
   "codemirror_mode": {
    "name": "ipython",
    "version": 3
   },
   "file_extension": ".py",
   "mimetype": "text/x-python",
   "name": "python",
   "nbconvert_exporter": "python",
   "pygments_lexer": "ipython3",
   "version": "3.5.2"
  }
 },
 "nbformat": 4,
 "nbformat_minor": 2
}
