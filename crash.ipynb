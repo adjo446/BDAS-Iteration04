{
 "cells": [
  {
   "cell_type": "markdown",
   "metadata": {},
   "source": [
    "# INFOSYS 722 - BDAS ITERATION\n",
    "\n",
    "# Predicting Crash Severity On New Zealand Roads\n",
    "\n",
    "Ferdinand Djohar (adjo446)"
   ]
  },
  {
   "cell_type": "markdown",
   "metadata": {},
   "source": [
    "## PREREQUISITES\n",
    "Initialise and start spark session."
   ]
  },
  {
   "cell_type": "code",
   "execution_count": 16,
   "metadata": {},
   "outputs": [],
   "source": [
    "import findspark\n",
    "findspark.init('/home/ubuntu/spark-2.1.1-bin-hadoop2.7')\n",
    "import pyspark\n",
    "from pyspark.sql import SparkSession\n",
    "spark = SparkSession.builder.appName('bdas').getOrCreate()"
   ]
  },
  {
   "cell_type": "markdown",
   "metadata": {},
   "source": [
    "## DATA UNDERSTANDING & DATA PREPARATION\n",
    "\n",
    "### 2.2 Data Description\n",
    "Data set consist of 104,032 records in total, sourced from three CSV files (i.e. one file for each year) with 38 attributes.\n",
    "\n",
    "Documentation provided by NZTA tells us that most of the value types in the data set are categorical and numeric types. Some variables are derived from other variables e.g. **URBAN** variable is derived from **SPD_LIM** variable giving possible values of *'Urban'* where **SPD_LIM** is less than 80 or *'Open Road'* where **SPD_LIM** is greater or equal to 80.\n",
    "\n",
    "Please refer to *Appendix A* in the report for more detailed list of attributes of the data set extracted from NZTA documentation."
   ]
  },
  {
   "cell_type": "code",
   "execution_count": 19,
   "metadata": {},
   "outputs": [
    {
     "name": "stdout",
     "output_type": "stream",
     "text": [
      "104032\n",
      "38\n"
     ]
    }
   ],
   "source": [
    "#df = spark.read.option(\"header\", \"true\").csv(\"Data/*.csv\")\n",
    "df = spark.read.csv(\"Data/*.csv\", header = True, inferSchema = True)\n",
    "\n",
    "#Print out the dimension of the data frame\n",
    "print(df.count()) #rows\n",
    "print(len(df.columns)) #columns"
   ]
  },
  {
   "cell_type": "markdown",
   "metadata": {},
   "source": [
    "### 2.3 Data Exploration\n",
    "\n",
    "Schema of the data frame"
   ]
  },
  {
   "cell_type": "code",
   "execution_count": 20,
   "metadata": {},
   "outputs": [
    {
     "name": "stdout",
     "output_type": "stream",
     "text": [
      "root\n",
      " |-- CRASH_YEAR: integer (nullable = true)\n",
      " |-- CRASH_SEV: string (nullable = true)\n",
      " |-- MULTI_VEH: string (nullable = true)\n",
      " |-- HOLIDAY: string (nullable = true)\n",
      " |-- LG_REGION_DESC: string (nullable = true)\n",
      " |-- EASTING: integer (nullable = true)\n",
      " |-- NORTHING: integer (nullable = true)\n",
      " |-- CRASH_LOCN1: string (nullable = true)\n",
      " |-- CRASH_LOCN2: string (nullable = true)\n",
      " |-- OUTDTD_LOCN_DESC: string (nullable = true)\n",
      " |-- CRASH_RP_RS: integer (nullable = true)\n",
      " |-- INTERSECTION: string (nullable = true)\n",
      " |-- JUNCTION_TYPE: string (nullable = true)\n",
      " |-- CR_RD_SIDE_RD: integer (nullable = true)\n",
      " |-- CRASH_DIRN_DESC: string (nullable = true)\n",
      " |-- CRASH_DIST: integer (nullable = true)\n",
      " |-- CRASH_RP_DIRN_DESC: string (nullable = true)\n",
      " |-- DIRN_ROLE1_DESC: string (nullable = true)\n",
      " |-- CRASH_RP_DISP: integer (nullable = true)\n",
      " |-- CRASH_SH_DESC: string (nullable = true)\n",
      " |-- CRASH_RP_SH: string (nullable = true)\n",
      " |-- CRASH_RP_NEWS_DESC: string (nullable = true)\n",
      " |-- INTSN_MIDBLOCK: string (nullable = true)\n",
      " |-- FLAT_HILL: string (nullable = true)\n",
      " |-- ROAD_CHARACTER: string (nullable = true)\n",
      " |-- ROAD_CURVATURE: string (nullable = true)\n",
      " |-- ROAD_LANE: string (nullable = true)\n",
      " |-- ROAD_MARKINGS: string (nullable = true)\n",
      " |-- ROAD_SURFACE: string (nullable = true)\n",
      " |-- ROAD_WET: string (nullable = true)\n",
      " |-- NUM_LANES: integer (nullable = true)\n",
      " |-- TRAFFIC_CTRL: string (nullable = true)\n",
      " |-- SPD_LIM: integer (nullable = true)\n",
      " |-- URBAN: string (nullable = true)\n",
      " |-- LIGHT: string (nullable = true)\n",
      " |-- STREET_LIGHT: string (nullable = true)\n",
      " |-- WEATHER_A: string (nullable = true)\n",
      " |-- WEATHER_B: string (nullable = true)\n",
      "\n"
     ]
    }
   ],
   "source": [
    "df.printSchema()"
   ]
  },
  {
   "cell_type": "code",
   "execution_count": null,
   "metadata": {},
   "outputs": [],
   "source": []
  }
 ],
 "metadata": {
  "kernelspec": {
   "display_name": "Python 3",
   "language": "python",
   "name": "python3"
  },
  "language_info": {
   "codemirror_mode": {
    "name": "ipython",
    "version": 3
   },
   "file_extension": ".py",
   "mimetype": "text/x-python",
   "name": "python",
   "nbconvert_exporter": "python",
   "pygments_lexer": "ipython3",
   "version": "3.5.2"
  }
 },
 "nbformat": 4,
 "nbformat_minor": 2
}
